{
 "cells": [
  {
   "cell_type": "code",
   "execution_count": 1,
   "id": "initial_id",
   "metadata": {
    "collapsed": true,
    "ExecuteTime": {
     "end_time": "2023-11-05T13:36:59.029129200Z",
     "start_time": "2023-11-05T13:36:59.024441400Z"
    }
   },
   "outputs": [],
   "source": [
    "import pandas as pd\n",
    "import numpy as np\n",
    "import seaborn as sns"
   ]
  },
  {
   "cell_type": "code",
   "execution_count": 2,
   "outputs": [],
   "source": [
    "dt = pd.read_csv('uber.csv')"
   ],
   "metadata": {
    "collapsed": false,
    "ExecuteTime": {
     "end_time": "2023-11-05T13:36:59.446826300Z",
     "start_time": "2023-11-05T13:36:59.029129200Z"
    }
   },
   "id": "e786358c5eb95519"
  },
  {
   "cell_type": "code",
   "execution_count": 3,
   "outputs": [
    {
     "data": {
      "text/plain": "(200000, 9)"
     },
     "execution_count": 3,
     "metadata": {},
     "output_type": "execute_result"
    }
   ],
   "source": [
    "dt.shape"
   ],
   "metadata": {
    "collapsed": false,
    "ExecuteTime": {
     "end_time": "2023-11-05T13:36:59.456343Z",
     "start_time": "2023-11-05T13:36:59.453834600Z"
    }
   },
   "id": "e1e55cf82d7647a8"
  },
  {
   "cell_type": "code",
   "execution_count": 4,
   "outputs": [
    {
     "data": {
      "text/plain": "'\\nif the duplication is find\\ndt.drop_duplicates(inplace=True) \\n'"
     },
     "execution_count": 4,
     "metadata": {},
     "output_type": "execute_result"
    }
   ],
   "source": [
    "dt.duplicated().sum()# checking duplication of data\n",
    "'''\n",
    "if the duplication is find\n",
    "dt.drop_duplicates(inplace=True) \n",
    "'''"
   ],
   "metadata": {
    "collapsed": false,
    "ExecuteTime": {
     "end_time": "2023-11-05T13:36:59.657786800Z",
     "start_time": "2023-11-05T13:36:59.456343Z"
    }
   },
   "id": "127337584b014a6f"
  },
  {
   "cell_type": "code",
   "execution_count": 5,
   "outputs": [
    {
     "data": {
      "text/plain": "         Unnamed: 0    fare_amount  pickup_longitude  pickup_latitude  \\\ncount  2.000000e+05  200000.000000     200000.000000    200000.000000   \nmean   2.771250e+07      11.359955        -72.527638        39.935885   \nstd    1.601382e+07       9.901776         11.437787         7.720539   \nmin    1.000000e+00     -52.000000      -1340.648410       -74.015515   \n25%    1.382535e+07       6.000000        -73.992065        40.734796   \n50%    2.774550e+07       8.500000        -73.981823        40.752592   \n75%    4.155530e+07      12.500000        -73.967154        40.767158   \nmax    5.542357e+07     499.000000         57.418457      1644.421482   \n\n       dropoff_longitude  dropoff_latitude  passenger_count  \ncount      199999.000000     199999.000000    200000.000000  \nmean          -72.525292         39.923890         1.684535  \nstd            13.117408          6.794829         1.385997  \nmin         -3356.666300       -881.985513         0.000000  \n25%           -73.991407         40.733823         1.000000  \n50%           -73.980093         40.753042         1.000000  \n75%           -73.963658         40.768001         2.000000  \nmax          1153.572603        872.697628       208.000000  ",
      "text/html": "<div>\n<style scoped>\n    .dataframe tbody tr th:only-of-type {\n        vertical-align: middle;\n    }\n\n    .dataframe tbody tr th {\n        vertical-align: top;\n    }\n\n    .dataframe thead th {\n        text-align: right;\n    }\n</style>\n<table border=\"1\" class=\"dataframe\">\n  <thead>\n    <tr style=\"text-align: right;\">\n      <th></th>\n      <th>Unnamed: 0</th>\n      <th>fare_amount</th>\n      <th>pickup_longitude</th>\n      <th>pickup_latitude</th>\n      <th>dropoff_longitude</th>\n      <th>dropoff_latitude</th>\n      <th>passenger_count</th>\n    </tr>\n  </thead>\n  <tbody>\n    <tr>\n      <th>count</th>\n      <td>2.000000e+05</td>\n      <td>200000.000000</td>\n      <td>200000.000000</td>\n      <td>200000.000000</td>\n      <td>199999.000000</td>\n      <td>199999.000000</td>\n      <td>200000.000000</td>\n    </tr>\n    <tr>\n      <th>mean</th>\n      <td>2.771250e+07</td>\n      <td>11.359955</td>\n      <td>-72.527638</td>\n      <td>39.935885</td>\n      <td>-72.525292</td>\n      <td>39.923890</td>\n      <td>1.684535</td>\n    </tr>\n    <tr>\n      <th>std</th>\n      <td>1.601382e+07</td>\n      <td>9.901776</td>\n      <td>11.437787</td>\n      <td>7.720539</td>\n      <td>13.117408</td>\n      <td>6.794829</td>\n      <td>1.385997</td>\n    </tr>\n    <tr>\n      <th>min</th>\n      <td>1.000000e+00</td>\n      <td>-52.000000</td>\n      <td>-1340.648410</td>\n      <td>-74.015515</td>\n      <td>-3356.666300</td>\n      <td>-881.985513</td>\n      <td>0.000000</td>\n    </tr>\n    <tr>\n      <th>25%</th>\n      <td>1.382535e+07</td>\n      <td>6.000000</td>\n      <td>-73.992065</td>\n      <td>40.734796</td>\n      <td>-73.991407</td>\n      <td>40.733823</td>\n      <td>1.000000</td>\n    </tr>\n    <tr>\n      <th>50%</th>\n      <td>2.774550e+07</td>\n      <td>8.500000</td>\n      <td>-73.981823</td>\n      <td>40.752592</td>\n      <td>-73.980093</td>\n      <td>40.753042</td>\n      <td>1.000000</td>\n    </tr>\n    <tr>\n      <th>75%</th>\n      <td>4.155530e+07</td>\n      <td>12.500000</td>\n      <td>-73.967154</td>\n      <td>40.767158</td>\n      <td>-73.963658</td>\n      <td>40.768001</td>\n      <td>2.000000</td>\n    </tr>\n    <tr>\n      <th>max</th>\n      <td>5.542357e+07</td>\n      <td>499.000000</td>\n      <td>57.418457</td>\n      <td>1644.421482</td>\n      <td>1153.572603</td>\n      <td>872.697628</td>\n      <td>208.000000</td>\n    </tr>\n  </tbody>\n</table>\n</div>"
     },
     "execution_count": 5,
     "metadata": {},
     "output_type": "execute_result"
    }
   ],
   "source": [
    "dt.describe()"
   ],
   "metadata": {
    "collapsed": false,
    "ExecuteTime": {
     "end_time": "2023-11-05T13:36:59.752285500Z",
     "start_time": "2023-11-05T13:36:59.646775Z"
    }
   },
   "id": "419ddd8caddf35aa"
  },
  {
   "cell_type": "code",
   "execution_count": 6,
   "outputs": [
    {
     "name": "stdout",
     "output_type": "stream",
     "text": [
      "<class 'pandas.core.frame.DataFrame'>\n",
      "RangeIndex: 200000 entries, 0 to 199999\n",
      "Data columns (total 9 columns):\n",
      " #   Column             Non-Null Count   Dtype  \n",
      "---  ------             --------------   -----  \n",
      " 0   Unnamed: 0         200000 non-null  int64  \n",
      " 1   key                200000 non-null  object \n",
      " 2   fare_amount        200000 non-null  float64\n",
      " 3   pickup_datetime    200000 non-null  object \n",
      " 4   pickup_longitude   200000 non-null  float64\n",
      " 5   pickup_latitude    200000 non-null  float64\n",
      " 6   dropoff_longitude  199999 non-null  float64\n",
      " 7   dropoff_latitude   199999 non-null  float64\n",
      " 8   passenger_count    200000 non-null  int64  \n",
      "dtypes: float64(5), int64(2), object(2)\n",
      "memory usage: 13.7+ MB\n"
     ]
    }
   ],
   "source": [
    "dt.info()"
   ],
   "metadata": {
    "collapsed": false,
    "ExecuteTime": {
     "end_time": "2023-11-05T13:36:59.830970900Z",
     "start_time": "2023-11-05T13:36:59.752285500Z"
    }
   },
   "id": "e4874225d949f350"
  },
  {
   "cell_type": "code",
   "execution_count": 7,
   "outputs": [
    {
     "data": {
      "text/plain": "   Unnamed: 0                            key  fare_amount  \\\n0    24238194    2015-05-07 19:52:06.0000003          7.5   \n1    27835199    2009-07-17 20:04:56.0000002          7.7   \n2    44984355   2009-08-24 21:45:00.00000061         12.9   \n3    25894730    2009-06-26 08:22:21.0000001          5.3   \n4    17610152  2014-08-28 17:47:00.000000188         16.0   \n\n           pickup_datetime  pickup_longitude  pickup_latitude  \\\n0  2015-05-07 19:52:06 UTC        -73.999817        40.738354   \n1  2009-07-17 20:04:56 UTC        -73.994355        40.728225   \n2  2009-08-24 21:45:00 UTC        -74.005043        40.740770   \n3  2009-06-26 08:22:21 UTC        -73.976124        40.790844   \n4  2014-08-28 17:47:00 UTC        -73.925023        40.744085   \n\n   dropoff_longitude  dropoff_latitude  passenger_count  \n0         -73.999512         40.723217                1  \n1         -73.994710         40.750325                1  \n2         -73.962565         40.772647                1  \n3         -73.965316         40.803349                3  \n4         -73.973082         40.761247                5  ",
      "text/html": "<div>\n<style scoped>\n    .dataframe tbody tr th:only-of-type {\n        vertical-align: middle;\n    }\n\n    .dataframe tbody tr th {\n        vertical-align: top;\n    }\n\n    .dataframe thead th {\n        text-align: right;\n    }\n</style>\n<table border=\"1\" class=\"dataframe\">\n  <thead>\n    <tr style=\"text-align: right;\">\n      <th></th>\n      <th>Unnamed: 0</th>\n      <th>key</th>\n      <th>fare_amount</th>\n      <th>pickup_datetime</th>\n      <th>pickup_longitude</th>\n      <th>pickup_latitude</th>\n      <th>dropoff_longitude</th>\n      <th>dropoff_latitude</th>\n      <th>passenger_count</th>\n    </tr>\n  </thead>\n  <tbody>\n    <tr>\n      <th>0</th>\n      <td>24238194</td>\n      <td>2015-05-07 19:52:06.0000003</td>\n      <td>7.5</td>\n      <td>2015-05-07 19:52:06 UTC</td>\n      <td>-73.999817</td>\n      <td>40.738354</td>\n      <td>-73.999512</td>\n      <td>40.723217</td>\n      <td>1</td>\n    </tr>\n    <tr>\n      <th>1</th>\n      <td>27835199</td>\n      <td>2009-07-17 20:04:56.0000002</td>\n      <td>7.7</td>\n      <td>2009-07-17 20:04:56 UTC</td>\n      <td>-73.994355</td>\n      <td>40.728225</td>\n      <td>-73.994710</td>\n      <td>40.750325</td>\n      <td>1</td>\n    </tr>\n    <tr>\n      <th>2</th>\n      <td>44984355</td>\n      <td>2009-08-24 21:45:00.00000061</td>\n      <td>12.9</td>\n      <td>2009-08-24 21:45:00 UTC</td>\n      <td>-74.005043</td>\n      <td>40.740770</td>\n      <td>-73.962565</td>\n      <td>40.772647</td>\n      <td>1</td>\n    </tr>\n    <tr>\n      <th>3</th>\n      <td>25894730</td>\n      <td>2009-06-26 08:22:21.0000001</td>\n      <td>5.3</td>\n      <td>2009-06-26 08:22:21 UTC</td>\n      <td>-73.976124</td>\n      <td>40.790844</td>\n      <td>-73.965316</td>\n      <td>40.803349</td>\n      <td>3</td>\n    </tr>\n    <tr>\n      <th>4</th>\n      <td>17610152</td>\n      <td>2014-08-28 17:47:00.000000188</td>\n      <td>16.0</td>\n      <td>2014-08-28 17:47:00 UTC</td>\n      <td>-73.925023</td>\n      <td>40.744085</td>\n      <td>-73.973082</td>\n      <td>40.761247</td>\n      <td>5</td>\n    </tr>\n  </tbody>\n</table>\n</div>"
     },
     "execution_count": 7,
     "metadata": {},
     "output_type": "execute_result"
    }
   ],
   "source": [
    "dt.head()"
   ],
   "metadata": {
    "collapsed": false,
    "ExecuteTime": {
     "end_time": "2023-11-05T13:36:59.830970900Z",
     "start_time": "2023-11-05T13:36:59.783614200Z"
    }
   },
   "id": "d5a381ac0d97f063"
  },
  {
   "cell_type": "code",
   "execution_count": 8,
   "outputs": [
    {
     "data": {
      "text/plain": "Unnamed: 0             int64\nkey                   object\nfare_amount          float64\npickup_datetime       object\npickup_longitude     float64\npickup_latitude      float64\ndropoff_longitude    float64\ndropoff_latitude     float64\npassenger_count        int64\ndtype: object"
     },
     "execution_count": 8,
     "metadata": {},
     "output_type": "execute_result"
    }
   ],
   "source": [
    "dt.dtypes"
   ],
   "metadata": {
    "collapsed": false,
    "ExecuteTime": {
     "end_time": "2023-11-05T13:36:59.893422900Z",
     "start_time": "2023-11-05T13:36:59.799844200Z"
    }
   },
   "id": "5f347c6fe977f37f"
  },
  {
   "cell_type": "code",
   "execution_count": 9,
   "outputs": [],
   "source": [
    "dt['pickup_datetime'] = pd.to_datetime(dt['pickup_datetime'])"
   ],
   "metadata": {
    "collapsed": false,
    "ExecuteTime": {
     "end_time": "2023-11-05T13:37:04.465289Z",
     "start_time": "2023-11-05T13:36:59.808270600Z"
    }
   },
   "id": "64e4fc5e599d3b8"
  },
  {
   "cell_type": "code",
   "execution_count": 10,
   "outputs": [
    {
     "data": {
      "text/plain": "Unnamed: 0                         int64\nkey                               object\nfare_amount                      float64\npickup_datetime      datetime64[ns, UTC]\npickup_longitude                 float64\npickup_latitude                  float64\ndropoff_longitude                float64\ndropoff_latitude                 float64\npassenger_count                    int64\ndtype: object"
     },
     "execution_count": 10,
     "metadata": {},
     "output_type": "execute_result"
    }
   ],
   "source": [
    "dt.dtypes"
   ],
   "metadata": {
    "collapsed": false,
    "ExecuteTime": {
     "end_time": "2023-11-05T13:37:04.476260100Z",
     "start_time": "2023-11-05T13:37:04.465289Z"
    }
   },
   "id": "bb29a242c73621f2"
  },
  {
   "cell_type": "code",
   "execution_count": 11,
   "outputs": [],
   "source": [
    "dt = dt[dt['passenger_count']!=1]"
   ],
   "metadata": {
    "collapsed": false,
    "ExecuteTime": {
     "end_time": "2023-11-05T13:37:04.488308900Z",
     "start_time": "2023-11-05T13:37:04.476260100Z"
    }
   },
   "id": "b2768ededb1a5bbc"
  },
  {
   "cell_type": "code",
   "execution_count": 12,
   "outputs": [],
   "source": [
    "dt = dt.drop(columns=['key','Unnamed: 0','passenger_count'],axis=1)"
   ],
   "metadata": {
    "collapsed": false,
    "ExecuteTime": {
     "end_time": "2023-11-05T13:37:04.518743100Z",
     "start_time": "2023-11-05T13:37:04.492322900Z"
    }
   },
   "id": "978439e961b7687a"
  },
  {
   "cell_type": "code",
   "execution_count": 13,
   "outputs": [
    {
     "data": {
      "text/plain": "fare_amount          0\npickup_datetime      0\npickup_longitude     0\npickup_latitude      0\ndropoff_longitude    1\ndropoff_latitude     1\ndtype: int64"
     },
     "execution_count": 13,
     "metadata": {},
     "output_type": "execute_result"
    }
   ],
   "source": [
    "dt.isnull().sum()"
   ],
   "metadata": {
    "collapsed": false,
    "ExecuteTime": {
     "end_time": "2023-11-05T13:37:04.518743100Z",
     "start_time": "2023-11-05T13:37:04.498929600Z"
    }
   },
   "id": "5b93b02050489118"
  },
  {
   "cell_type": "code",
   "execution_count": 14,
   "outputs": [],
   "source": [
    "dt = dt.dropna(axis=0)"
   ],
   "metadata": {
    "collapsed": false,
    "ExecuteTime": {
     "end_time": "2023-11-05T13:37:04.518743100Z",
     "start_time": "2023-11-05T13:37:04.512089200Z"
    }
   },
   "id": "e2d893584b018984"
  },
  {
   "cell_type": "code",
   "execution_count": 15,
   "outputs": [
    {
     "data": {
      "text/plain": "fare_amount          0\npickup_datetime      0\npickup_longitude     0\npickup_latitude      0\ndropoff_longitude    0\ndropoff_latitude     0\ndtype: int64"
     },
     "execution_count": 15,
     "metadata": {},
     "output_type": "execute_result"
    }
   ],
   "source": [
    "dt.isnull().sum()"
   ],
   "metadata": {
    "collapsed": false,
    "ExecuteTime": {
     "end_time": "2023-11-05T13:37:04.527597300Z",
     "start_time": "2023-11-05T13:37:04.518743100Z"
    }
   },
   "id": "4cd822755baade09"
  },
  {
   "cell_type": "code",
   "execution_count": 16,
   "outputs": [
    {
     "data": {
      "text/plain": "fare_amount          1.000000\npickup_datetime      0.132713\npickup_longitude     0.012763\ndropoff_longitude    0.008175\ndropoff_latitude    -0.008539\npickup_latitude     -0.011939\nName: fare_amount, dtype: float64"
     },
     "execution_count": 16,
     "metadata": {},
     "output_type": "execute_result"
    }
   ],
   "source": [
    "mat = dt.corr()\n",
    "mat['fare_amount'].sort_values(ascending=False)"
   ],
   "metadata": {
    "collapsed": false,
    "ExecuteTime": {
     "end_time": "2023-11-05T13:37:04.575944800Z",
     "start_time": "2023-11-05T13:37:04.527597300Z"
    }
   },
   "id": "38e1ad2bbe3f3adb"
  },
  {
   "cell_type": "code",
   "execution_count": 18,
   "outputs": [
    {
     "data": {
      "text/plain": "    fare_amount           pickup_datetime  pickup_longitude  pickup_latitude  \\\n3           5.3 2009-06-26 08:22:21+00:00        -73.976124        40.790844   \n4          16.0 2014-08-28 17:47:00+00:00        -73.925023        40.744085   \n6          24.5 2014-10-12 07:04:00+00:00        -73.961447        40.693965   \n12          3.3 2011-05-17 14:03:00+00:00        -73.966378        40.804440   \n15          9.7 2012-02-21 09:33:00+00:00        -73.990718        40.751920   \n\n    dropoff_longitude  dropoff_latitude  day_of_week  pickup_hour  distance  \n3          -73.965316         40.803349          4.0          8.0  1.045342  \n4          -73.973082         40.761247          3.0         17.0  2.878848  \n6          -73.871195         40.774297          6.0          7.0  7.416646  \n12         -73.965890         40.807133          1.0         14.0  0.187718  \n15         -73.973053         40.744230          1.0          9.0  1.100829  ",
      "text/html": "<div>\n<style scoped>\n    .dataframe tbody tr th:only-of-type {\n        vertical-align: middle;\n    }\n\n    .dataframe tbody tr th {\n        vertical-align: top;\n    }\n\n    .dataframe thead th {\n        text-align: right;\n    }\n</style>\n<table border=\"1\" class=\"dataframe\">\n  <thead>\n    <tr style=\"text-align: right;\">\n      <th></th>\n      <th>fare_amount</th>\n      <th>pickup_datetime</th>\n      <th>pickup_longitude</th>\n      <th>pickup_latitude</th>\n      <th>dropoff_longitude</th>\n      <th>dropoff_latitude</th>\n      <th>day_of_week</th>\n      <th>pickup_hour</th>\n      <th>distance</th>\n    </tr>\n  </thead>\n  <tbody>\n    <tr>\n      <th>3</th>\n      <td>5.3</td>\n      <td>2009-06-26 08:22:21+00:00</td>\n      <td>-73.976124</td>\n      <td>40.790844</td>\n      <td>-73.965316</td>\n      <td>40.803349</td>\n      <td>4.0</td>\n      <td>8.0</td>\n      <td>1.045342</td>\n    </tr>\n    <tr>\n      <th>4</th>\n      <td>16.0</td>\n      <td>2014-08-28 17:47:00+00:00</td>\n      <td>-73.925023</td>\n      <td>40.744085</td>\n      <td>-73.973082</td>\n      <td>40.761247</td>\n      <td>3.0</td>\n      <td>17.0</td>\n      <td>2.878848</td>\n    </tr>\n    <tr>\n      <th>6</th>\n      <td>24.5</td>\n      <td>2014-10-12 07:04:00+00:00</td>\n      <td>-73.961447</td>\n      <td>40.693965</td>\n      <td>-73.871195</td>\n      <td>40.774297</td>\n      <td>6.0</td>\n      <td>7.0</td>\n      <td>7.416646</td>\n    </tr>\n    <tr>\n      <th>12</th>\n      <td>3.3</td>\n      <td>2011-05-17 14:03:00+00:00</td>\n      <td>-73.966378</td>\n      <td>40.804440</td>\n      <td>-73.965890</td>\n      <td>40.807133</td>\n      <td>1.0</td>\n      <td>14.0</td>\n      <td>0.187718</td>\n    </tr>\n    <tr>\n      <th>15</th>\n      <td>9.7</td>\n      <td>2012-02-21 09:33:00+00:00</td>\n      <td>-73.990718</td>\n      <td>40.751920</td>\n      <td>-73.973053</td>\n      <td>40.744230</td>\n      <td>1.0</td>\n      <td>9.0</td>\n      <td>1.100829</td>\n    </tr>\n  </tbody>\n</table>\n</div>"
     },
     "execution_count": 18,
     "metadata": {},
     "output_type": "execute_result"
    }
   ],
   "source": [
    "from math import sqrt\n",
    "\n",
    "# Assuming df is your DataFrame\n",
    "for i, row in dt.iterrows():\n",
    "    pu = row['pickup_datetime']\n",
    "    dt.at[i, \"day_of_week\"] = pu.weekday()\n",
    "    dt.at[i, \"pickup_hour\"] = pu.hour\n",
    "    x = (row[\"dropoff_longitude\"] - row[\"pickup_longitude\"]) * 54.6\n",
    "    y = (row[\"dropoff_latitude\"] - row[\"pickup_latitude\"]) * 69.0\n",
    "    distance = sqrt(x**2 + y**2)\n",
    "    dt.at[i, \"distance\"] = distance\n",
    "    \n",
    "dt.head()"
   ],
   "metadata": {
    "collapsed": false,
    "ExecuteTime": {
     "end_time": "2023-11-05T13:37:31.111439900Z",
     "start_time": "2023-11-05T13:37:24.004620600Z"
    }
   },
   "id": "3a77924d8d9fb15"
  },
  {
   "cell_type": "code",
   "execution_count": 21,
   "outputs": [],
   "source": [
    "dt = dt.drop(columns=['pickup_datetime','pickup_latitude','pickup_longitude','dropoff_latitude','dropoff_longitude'],axis=1)"
   ],
   "metadata": {
    "collapsed": false,
    "ExecuteTime": {
     "end_time": "2023-11-05T13:40:59.489589600Z",
     "start_time": "2023-11-05T13:40:59.458040200Z"
    }
   },
   "id": "13d3ba7d1c86427b"
  },
  {
   "cell_type": "code",
   "execution_count": 37,
   "outputs": [
    {
     "data": {
      "text/plain": "    fare_amount  day_of_week  pickup_hour  distance\n4          16.0          3.0         17.0  2.878848\n6          24.5          6.0          7.0  7.416646\n17         10.5          5.0         23.0  1.621695\n24         12.9          2.0         22.0  3.882043\n30         25.7          5.0          9.0  8.130658",
      "text/html": "<div>\n<style scoped>\n    .dataframe tbody tr th:only-of-type {\n        vertical-align: middle;\n    }\n\n    .dataframe tbody tr th {\n        vertical-align: top;\n    }\n\n    .dataframe thead th {\n        text-align: right;\n    }\n</style>\n<table border=\"1\" class=\"dataframe\">\n  <thead>\n    <tr style=\"text-align: right;\">\n      <th></th>\n      <th>fare_amount</th>\n      <th>day_of_week</th>\n      <th>pickup_hour</th>\n      <th>distance</th>\n    </tr>\n  </thead>\n  <tbody>\n    <tr>\n      <th>4</th>\n      <td>16.0</td>\n      <td>3.0</td>\n      <td>17.0</td>\n      <td>2.878848</td>\n    </tr>\n    <tr>\n      <th>6</th>\n      <td>24.5</td>\n      <td>6.0</td>\n      <td>7.0</td>\n      <td>7.416646</td>\n    </tr>\n    <tr>\n      <th>17</th>\n      <td>10.5</td>\n      <td>5.0</td>\n      <td>23.0</td>\n      <td>1.621695</td>\n    </tr>\n    <tr>\n      <th>24</th>\n      <td>12.9</td>\n      <td>2.0</td>\n      <td>22.0</td>\n      <td>3.882043</td>\n    </tr>\n    <tr>\n      <th>30</th>\n      <td>25.7</td>\n      <td>5.0</td>\n      <td>9.0</td>\n      <td>8.130658</td>\n    </tr>\n  </tbody>\n</table>\n</div>"
     },
     "execution_count": 37,
     "metadata": {},
     "output_type": "execute_result"
    }
   ],
   "source": [
    "dt.head()"
   ],
   "metadata": {
    "collapsed": false,
    "ExecuteTime": {
     "end_time": "2023-11-05T14:03:17.167963Z",
     "start_time": "2023-11-05T14:03:17.136294900Z"
    }
   },
   "id": "47689a526d4238a1"
  },
  {
   "cell_type": "code",
   "execution_count": 22,
   "outputs": [
    {
     "data": {
      "text/plain": "fare_amount    1.000000\ndistance       0.014418\nday_of_week   -0.006293\npickup_hour   -0.031296\nName: fare_amount, dtype: float64"
     },
     "execution_count": 22,
     "metadata": {},
     "output_type": "execute_result"
    }
   ],
   "source": [
    "cor_mat = dt.corr()\n",
    "cor_mat['fare_amount'].sort_values(ascending=False)"
   ],
   "metadata": {
    "collapsed": false,
    "ExecuteTime": {
     "end_time": "2023-11-05T13:41:02.650387300Z",
     "start_time": "2023-11-05T13:41:02.618453400Z"
    }
   },
   "id": "15f6d13dd52557c7"
  },
  {
   "cell_type": "code",
   "execution_count": 24,
   "outputs": [],
   "source": [
    "dt = dt[(dt['distance']>1.0) & (dt['distance']<10.00)]\n",
    "dt = dt[(dt['fare_amount']>10.0) & (dt['fare_amount']<50.00)]"
   ],
   "metadata": {
    "collapsed": false,
    "ExecuteTime": {
     "end_time": "2023-11-05T13:44:15.608333300Z",
     "start_time": "2023-11-05T13:44:15.592234400Z"
    }
   },
   "id": "a28696fa94a0f0a6"
  },
  {
   "cell_type": "code",
   "execution_count": 25,
   "outputs": [
    {
     "data": {
      "text/plain": "fare_amount    1.000000\ndistance       0.791901\nday_of_week   -0.027777\npickup_hour   -0.041899\nName: fare_amount, dtype: float64"
     },
     "execution_count": 25,
     "metadata": {},
     "output_type": "execute_result"
    }
   ],
   "source": [
    "corr_mat = dt.corr()\n",
    "corr_mat['fare_amount'].sort_values(ascending=False)"
   ],
   "metadata": {
    "collapsed": false,
    "ExecuteTime": {
     "end_time": "2023-11-05T13:45:34.726344100Z",
     "start_time": "2023-11-05T13:45:34.705550400Z"
    }
   },
   "id": "1cdeef51393c03b9"
  },
  {
   "cell_type": "code",
   "execution_count": 32,
   "outputs": [],
   "source": [
    "from sklearn.linear_model import LinearRegression\n",
    "from sklearn.model_selection import cross_val_score\n",
    "\n",
    "x = dt[['day_of_week','pickup_hour','distance']]\n",
    "y = dt['fare_amount']"
   ],
   "metadata": {
    "collapsed": false,
    "ExecuteTime": {
     "end_time": "2023-11-05T14:01:19.397380100Z",
     "start_time": "2023-11-05T14:01:19.368589500Z"
    }
   },
   "id": "dac1e8794b470639"
  },
  {
   "cell_type": "code",
   "execution_count": 33,
   "outputs": [
    {
     "data": {
      "text/plain": "0.6292718227581374"
     },
     "execution_count": 33,
     "metadata": {},
     "output_type": "execute_result"
    }
   ],
   "source": [
    "model =LinearRegression()\n",
    "cross_val_score(model,x,y,cv=5).mean()"
   ],
   "metadata": {
    "collapsed": false,
    "ExecuteTime": {
     "end_time": "2023-11-05T14:01:21.325140600Z",
     "start_time": "2023-11-05T14:01:21.267638400Z"
    }
   },
   "id": "26fb954e4ad4a6c9"
  },
  {
   "cell_type": "code",
   "execution_count": 35,
   "outputs": [
    {
     "data": {
      "text/plain": "0.6363845864905533"
     },
     "execution_count": 35,
     "metadata": {},
     "output_type": "execute_result"
    }
   ],
   "source": [
    "from sklearn.ensemble import RandomForestRegressor\n",
    "\n",
    "model= RandomForestRegressor()\n",
    "cross_val_score(model,x,y,cv=3).mean()"
   ],
   "metadata": {
    "collapsed": false,
    "ExecuteTime": {
     "end_time": "2023-11-05T14:02:39.869861100Z",
     "start_time": "2023-11-05T14:02:14.359378800Z"
    }
   },
   "id": "661aadb3871458ca"
  },
  {
   "cell_type": "code",
   "execution_count": 36,
   "outputs": [
    {
     "data": {
      "text/plain": "RandomForestRegressor()",
      "text/html": "<style>#sk-container-id-3 {color: black;}#sk-container-id-3 pre{padding: 0;}#sk-container-id-3 div.sk-toggleable {background-color: white;}#sk-container-id-3 label.sk-toggleable__label {cursor: pointer;display: block;width: 100%;margin-bottom: 0;padding: 0.3em;box-sizing: border-box;text-align: center;}#sk-container-id-3 label.sk-toggleable__label-arrow:before {content: \"▸\";float: left;margin-right: 0.25em;color: #696969;}#sk-container-id-3 label.sk-toggleable__label-arrow:hover:before {color: black;}#sk-container-id-3 div.sk-estimator:hover label.sk-toggleable__label-arrow:before {color: black;}#sk-container-id-3 div.sk-toggleable__content {max-height: 0;max-width: 0;overflow: hidden;text-align: left;background-color: #f0f8ff;}#sk-container-id-3 div.sk-toggleable__content pre {margin: 0.2em;color: black;border-radius: 0.25em;background-color: #f0f8ff;}#sk-container-id-3 input.sk-toggleable__control:checked~div.sk-toggleable__content {max-height: 200px;max-width: 100%;overflow: auto;}#sk-container-id-3 input.sk-toggleable__control:checked~label.sk-toggleable__label-arrow:before {content: \"▾\";}#sk-container-id-3 div.sk-estimator input.sk-toggleable__control:checked~label.sk-toggleable__label {background-color: #d4ebff;}#sk-container-id-3 div.sk-label input.sk-toggleable__control:checked~label.sk-toggleable__label {background-color: #d4ebff;}#sk-container-id-3 input.sk-hidden--visually {border: 0;clip: rect(1px 1px 1px 1px);clip: rect(1px, 1px, 1px, 1px);height: 1px;margin: -1px;overflow: hidden;padding: 0;position: absolute;width: 1px;}#sk-container-id-3 div.sk-estimator {font-family: monospace;background-color: #f0f8ff;border: 1px dotted black;border-radius: 0.25em;box-sizing: border-box;margin-bottom: 0.5em;}#sk-container-id-3 div.sk-estimator:hover {background-color: #d4ebff;}#sk-container-id-3 div.sk-parallel-item::after {content: \"\";width: 100%;border-bottom: 1px solid gray;flex-grow: 1;}#sk-container-id-3 div.sk-label:hover label.sk-toggleable__label {background-color: #d4ebff;}#sk-container-id-3 div.sk-serial::before {content: \"\";position: absolute;border-left: 1px solid gray;box-sizing: border-box;top: 0;bottom: 0;left: 50%;z-index: 0;}#sk-container-id-3 div.sk-serial {display: flex;flex-direction: column;align-items: center;background-color: white;padding-right: 0.2em;padding-left: 0.2em;position: relative;}#sk-container-id-3 div.sk-item {position: relative;z-index: 1;}#sk-container-id-3 div.sk-parallel {display: flex;align-items: stretch;justify-content: center;background-color: white;position: relative;}#sk-container-id-3 div.sk-item::before, #sk-container-id-3 div.sk-parallel-item::before {content: \"\";position: absolute;border-left: 1px solid gray;box-sizing: border-box;top: 0;bottom: 0;left: 50%;z-index: -1;}#sk-container-id-3 div.sk-parallel-item {display: flex;flex-direction: column;z-index: 1;position: relative;background-color: white;}#sk-container-id-3 div.sk-parallel-item:first-child::after {align-self: flex-end;width: 50%;}#sk-container-id-3 div.sk-parallel-item:last-child::after {align-self: flex-start;width: 50%;}#sk-container-id-3 div.sk-parallel-item:only-child::after {width: 0;}#sk-container-id-3 div.sk-dashed-wrapped {border: 1px dashed gray;margin: 0 0.4em 0.5em 0.4em;box-sizing: border-box;padding-bottom: 0.4em;background-color: white;}#sk-container-id-3 div.sk-label label {font-family: monospace;font-weight: bold;display: inline-block;line-height: 1.2em;}#sk-container-id-3 div.sk-label-container {text-align: center;}#sk-container-id-3 div.sk-container {/* jupyter's `normalize.less` sets `[hidden] { display: none; }` but bootstrap.min.css set `[hidden] { display: none !important; }` so we also need the `!important` here to be able to override the default hidden behavior on the sphinx rendered scikit-learn.org. See: https://github.com/scikit-learn/scikit-learn/issues/21755 */display: inline-block !important;position: relative;}#sk-container-id-3 div.sk-text-repr-fallback {display: none;}</style><div id=\"sk-container-id-3\" class=\"sk-top-container\"><div class=\"sk-text-repr-fallback\"><pre>RandomForestRegressor()</pre><b>In a Jupyter environment, please rerun this cell to show the HTML representation or trust the notebook. <br />On GitHub, the HTML representation is unable to render, please try loading this page with nbviewer.org.</b></div><div class=\"sk-container\" hidden><div class=\"sk-item\"><div class=\"sk-estimator sk-toggleable\"><input class=\"sk-toggleable__control sk-hidden--visually\" id=\"sk-estimator-id-3\" type=\"checkbox\" checked><label for=\"sk-estimator-id-3\" class=\"sk-toggleable__label sk-toggleable__label-arrow\">RandomForestRegressor</label><div class=\"sk-toggleable__content\"><pre>RandomForestRegressor()</pre></div></div></div></div></div>"
     },
     "execution_count": 36,
     "metadata": {},
     "output_type": "execute_result"
    }
   ],
   "source": [
    "model.fit(x,y)"
   ],
   "metadata": {
    "collapsed": false,
    "ExecuteTime": {
     "end_time": "2023-11-05T14:03:04.579745100Z",
     "start_time": "2023-11-05T14:02:51.173636400Z"
    }
   },
   "id": "e4b9d627dce98bdc"
  },
  {
   "cell_type": "code",
   "execution_count": 39,
   "outputs": [
    {
     "data": {
      "text/plain": "array([11.962])"
     },
     "execution_count": 39,
     "metadata": {},
     "output_type": "execute_result"
    }
   ],
   "source": [
    "model.predict(pd.DataFrame({'day_of_week':[4],'pickup_hour':[5.0],'distance':[2.0]}))"
   ],
   "metadata": {
    "collapsed": false,
    "ExecuteTime": {
     "end_time": "2023-11-05T14:04:05.202853Z",
     "start_time": "2023-11-05T14:04:05.178915200Z"
    }
   },
   "id": "3d6fd2309443224b"
  },
  {
   "cell_type": "code",
   "execution_count": 40,
   "outputs": [
    {
     "name": "stdout",
     "output_type": "stream",
     "text": [
      "0.9489852298377921\n"
     ]
    }
   ],
   "source": [
    "from sklearn.metrics import r2_score\n",
    "\n",
    "y_predict = model.predict(x)\n",
    "r2_score_model = r2_score(y,y_predict)\n",
    "print(r2_score_model)"
   ],
   "metadata": {
    "collapsed": false,
    "ExecuteTime": {
     "end_time": "2023-11-05T14:19:34.626085700Z",
     "start_time": "2023-11-05T14:19:33.990138500Z"
    }
   },
   "id": "f6db4e129031fea1"
  },
  {
   "cell_type": "code",
   "execution_count": 41,
   "outputs": [
    {
     "name": "stdout",
     "output_type": "stream",
     "text": [
      "1.6621387291298424\n"
     ]
    }
   ],
   "source": [
    "from sklearn.metrics import mean_squared_error\n",
    "from math import sqrt\n",
    "\n",
    "rms = sqrt(mean_squared_error(y,y_predict))\n",
    "print(rms)\n"
   ],
   "metadata": {
    "collapsed": false,
    "ExecuteTime": {
     "end_time": "2023-11-05T14:24:15.993325500Z",
     "start_time": "2023-11-05T14:24:15.982843600Z"
    }
   },
   "id": "b7baeca64480bdd4"
  }
 ],
 "metadata": {
  "kernelspec": {
   "display_name": "Python 3",
   "language": "python",
   "name": "python3"
  },
  "language_info": {
   "codemirror_mode": {
    "name": "ipython",
    "version": 2
   },
   "file_extension": ".py",
   "mimetype": "text/x-python",
   "name": "python",
   "nbconvert_exporter": "python",
   "pygments_lexer": "ipython2",
   "version": "2.7.6"
  }
 },
 "nbformat": 4,
 "nbformat_minor": 5
}
