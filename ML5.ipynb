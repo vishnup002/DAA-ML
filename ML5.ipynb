{
 "cells": [
  {
   "cell_type": "code",
   "execution_count": 1,
   "id": "initial_id",
   "metadata": {
    "collapsed": true,
    "ExecuteTime": {
     "end_time": "2023-11-07T09:19:44.437960300Z",
     "start_time": "2023-11-07T09:19:44.426990800Z"
    }
   },
   "outputs": [],
   "source": [
    "import pandas as pd\n",
    "import numpy as np"
   ]
  },
  {
   "cell_type": "code",
   "execution_count": 8,
   "outputs": [
    {
     "data": {
      "text/plain": "   ORDERNUMBER  QUANTITYORDERED  PRICEEACH  ORDERLINENUMBER    SALES  \\\n0        10107               30      95.70                2  2871.00   \n1        10121               34      81.35                5  2765.90   \n2        10134               41      94.74                2  3884.34   \n3        10145               45      83.26                6  3746.70   \n4        10159               49     100.00               14  5205.27   \n\n         ORDERDATE   STATUS  QTR_ID  MONTH_ID  YEAR_ID  ...  \\\n0   2/24/2003 0:00  Shipped       1         2     2003  ...   \n1    5/7/2003 0:00  Shipped       2         5     2003  ...   \n2    7/1/2003 0:00  Shipped       3         7     2003  ...   \n3   8/25/2003 0:00  Shipped       3         8     2003  ...   \n4  10/10/2003 0:00  Shipped       4        10     2003  ...   \n\n                    ADDRESSLINE1  ADDRESSLINE2           CITY STATE  \\\n0        897 Long Airport Avenue           NaN            NYC    NY   \n1             59 rue de l'Abbaye           NaN          Reims   NaN   \n2  27 rue du Colonel Pierre Avia           NaN          Paris   NaN   \n3             78934 Hillside Dr.           NaN       Pasadena    CA   \n4                7734 Strong St.           NaN  San Francisco    CA   \n\n  POSTALCODE COUNTRY TERRITORY CONTACTLASTNAME CONTACTFIRSTNAME DEALSIZE  \n0      10022     USA       NaN              Yu             Kwai    Small  \n1      51100  France      EMEA         Henriot             Paul    Small  \n2      75508  France      EMEA        Da Cunha           Daniel   Medium  \n3      90003     USA       NaN           Young            Julie   Medium  \n4        NaN     USA       NaN           Brown            Julie   Medium  \n\n[5 rows x 25 columns]",
      "text/html": "<div>\n<style scoped>\n    .dataframe tbody tr th:only-of-type {\n        vertical-align: middle;\n    }\n\n    .dataframe tbody tr th {\n        vertical-align: top;\n    }\n\n    .dataframe thead th {\n        text-align: right;\n    }\n</style>\n<table border=\"1\" class=\"dataframe\">\n  <thead>\n    <tr style=\"text-align: right;\">\n      <th></th>\n      <th>ORDERNUMBER</th>\n      <th>QUANTITYORDERED</th>\n      <th>PRICEEACH</th>\n      <th>ORDERLINENUMBER</th>\n      <th>SALES</th>\n      <th>ORDERDATE</th>\n      <th>STATUS</th>\n      <th>QTR_ID</th>\n      <th>MONTH_ID</th>\n      <th>YEAR_ID</th>\n      <th>...</th>\n      <th>ADDRESSLINE1</th>\n      <th>ADDRESSLINE2</th>\n      <th>CITY</th>\n      <th>STATE</th>\n      <th>POSTALCODE</th>\n      <th>COUNTRY</th>\n      <th>TERRITORY</th>\n      <th>CONTACTLASTNAME</th>\n      <th>CONTACTFIRSTNAME</th>\n      <th>DEALSIZE</th>\n    </tr>\n  </thead>\n  <tbody>\n    <tr>\n      <th>0</th>\n      <td>10107</td>\n      <td>30</td>\n      <td>95.70</td>\n      <td>2</td>\n      <td>2871.00</td>\n      <td>2/24/2003 0:00</td>\n      <td>Shipped</td>\n      <td>1</td>\n      <td>2</td>\n      <td>2003</td>\n      <td>...</td>\n      <td>897 Long Airport Avenue</td>\n      <td>NaN</td>\n      <td>NYC</td>\n      <td>NY</td>\n      <td>10022</td>\n      <td>USA</td>\n      <td>NaN</td>\n      <td>Yu</td>\n      <td>Kwai</td>\n      <td>Small</td>\n    </tr>\n    <tr>\n      <th>1</th>\n      <td>10121</td>\n      <td>34</td>\n      <td>81.35</td>\n      <td>5</td>\n      <td>2765.90</td>\n      <td>5/7/2003 0:00</td>\n      <td>Shipped</td>\n      <td>2</td>\n      <td>5</td>\n      <td>2003</td>\n      <td>...</td>\n      <td>59 rue de l'Abbaye</td>\n      <td>NaN</td>\n      <td>Reims</td>\n      <td>NaN</td>\n      <td>51100</td>\n      <td>France</td>\n      <td>EMEA</td>\n      <td>Henriot</td>\n      <td>Paul</td>\n      <td>Small</td>\n    </tr>\n    <tr>\n      <th>2</th>\n      <td>10134</td>\n      <td>41</td>\n      <td>94.74</td>\n      <td>2</td>\n      <td>3884.34</td>\n      <td>7/1/2003 0:00</td>\n      <td>Shipped</td>\n      <td>3</td>\n      <td>7</td>\n      <td>2003</td>\n      <td>...</td>\n      <td>27 rue du Colonel Pierre Avia</td>\n      <td>NaN</td>\n      <td>Paris</td>\n      <td>NaN</td>\n      <td>75508</td>\n      <td>France</td>\n      <td>EMEA</td>\n      <td>Da Cunha</td>\n      <td>Daniel</td>\n      <td>Medium</td>\n    </tr>\n    <tr>\n      <th>3</th>\n      <td>10145</td>\n      <td>45</td>\n      <td>83.26</td>\n      <td>6</td>\n      <td>3746.70</td>\n      <td>8/25/2003 0:00</td>\n      <td>Shipped</td>\n      <td>3</td>\n      <td>8</td>\n      <td>2003</td>\n      <td>...</td>\n      <td>78934 Hillside Dr.</td>\n      <td>NaN</td>\n      <td>Pasadena</td>\n      <td>CA</td>\n      <td>90003</td>\n      <td>USA</td>\n      <td>NaN</td>\n      <td>Young</td>\n      <td>Julie</td>\n      <td>Medium</td>\n    </tr>\n    <tr>\n      <th>4</th>\n      <td>10159</td>\n      <td>49</td>\n      <td>100.00</td>\n      <td>14</td>\n      <td>5205.27</td>\n      <td>10/10/2003 0:00</td>\n      <td>Shipped</td>\n      <td>4</td>\n      <td>10</td>\n      <td>2003</td>\n      <td>...</td>\n      <td>7734 Strong St.</td>\n      <td>NaN</td>\n      <td>San Francisco</td>\n      <td>CA</td>\n      <td>NaN</td>\n      <td>USA</td>\n      <td>NaN</td>\n      <td>Brown</td>\n      <td>Julie</td>\n      <td>Medium</td>\n    </tr>\n  </tbody>\n</table>\n<p>5 rows × 25 columns</p>\n</div>"
     },
     "execution_count": 8,
     "metadata": {},
     "output_type": "execute_result"
    }
   ],
   "source": [
    "df = pd.read_csv(\"sales_data_sample(N).csv\",encoding='ISO-8859-1')\n",
    "df.head()"
   ],
   "metadata": {
    "collapsed": false,
    "ExecuteTime": {
     "end_time": "2023-11-07T09:29:17.548274400Z",
     "start_time": "2023-11-07T09:29:17.289035400Z"
    }
   },
   "id": "2f4a0eb280437270"
  },
  {
   "cell_type": "code",
   "execution_count": 11,
   "outputs": [
    {
     "data": {
      "text/plain": "Index(['ORDERNUMBER', 'QUANTITYORDERED', 'PRICEEACH', 'ORDERLINENUMBER',\n       'SALES', 'ORDERDATE', 'STATUS', 'QTR_ID', 'MONTH_ID', 'YEAR_ID',\n       'PRODUCTLINE', 'MSRP', 'PRODUCTCODE', 'CUSTOMERNAME', 'PHONE',\n       'ADDRESSLINE1', 'ADDRESSLINE2', 'CITY', 'STATE', 'POSTALCODE',\n       'COUNTRY', 'TERRITORY', 'CONTACTLASTNAME', 'CONTACTFIRSTNAME',\n       'DEALSIZE'],\n      dtype='object')"
     },
     "execution_count": 11,
     "metadata": {},
     "output_type": "execute_result"
    }
   ],
   "source": [
    "df.columns"
   ],
   "metadata": {
    "collapsed": false,
    "ExecuteTime": {
     "end_time": "2023-11-07T09:30:40.703295600Z",
     "start_time": "2023-11-07T09:30:40.597093400Z"
    }
   },
   "id": "126891732b64ad9"
  },
  {
   "cell_type": "code",
   "execution_count": 13,
   "outputs": [
    {
     "ename": "KeyError",
     "evalue": "('QUANTITYORDERED', 'ORDERLINENUMBER', 'SALES', 'STATUS', 'QTR_ID', 'MONTH_ID', 'YEAR_ID', 'PRODUCTCODE', 'MSRP', 'PRODUCTCODE', 'CUSTOMERNAME', 'COUNTRY', 'DEALSIZE')",
     "output_type": "error",
     "traceback": [
      "\u001B[1;31m---------------------------------------------------------------------------\u001B[0m",
      "\u001B[1;31mKeyError\u001B[0m                                  Traceback (most recent call last)",
      "File \u001B[1;32m~\\AppData\\Roaming\\Python\\Python311\\site-packages\\pandas\\core\\indexes\\base.py:3790\u001B[0m, in \u001B[0;36mIndex.get_loc\u001B[1;34m(self, key)\u001B[0m\n\u001B[0;32m   3789\u001B[0m \u001B[38;5;28;01mtry\u001B[39;00m:\n\u001B[1;32m-> 3790\u001B[0m     \u001B[38;5;28;01mreturn\u001B[39;00m \u001B[38;5;28;43mself\u001B[39;49m\u001B[38;5;241;43m.\u001B[39;49m\u001B[43m_engine\u001B[49m\u001B[38;5;241;43m.\u001B[39;49m\u001B[43mget_loc\u001B[49m\u001B[43m(\u001B[49m\u001B[43mcasted_key\u001B[49m\u001B[43m)\u001B[49m\n\u001B[0;32m   3791\u001B[0m \u001B[38;5;28;01mexcept\u001B[39;00m \u001B[38;5;167;01mKeyError\u001B[39;00m \u001B[38;5;28;01mas\u001B[39;00m err:\n",
      "File \u001B[1;32mindex.pyx:152\u001B[0m, in \u001B[0;36mpandas._libs.index.IndexEngine.get_loc\u001B[1;34m()\u001B[0m\n",
      "File \u001B[1;32mindex.pyx:181\u001B[0m, in \u001B[0;36mpandas._libs.index.IndexEngine.get_loc\u001B[1;34m()\u001B[0m\n",
      "File \u001B[1;32mpandas\\_libs\\hashtable_class_helper.pxi:7080\u001B[0m, in \u001B[0;36mpandas._libs.hashtable.PyObjectHashTable.get_item\u001B[1;34m()\u001B[0m\n",
      "File \u001B[1;32mpandas\\_libs\\hashtable_class_helper.pxi:7088\u001B[0m, in \u001B[0;36mpandas._libs.hashtable.PyObjectHashTable.get_item\u001B[1;34m()\u001B[0m\n",
      "\u001B[1;31mKeyError\u001B[0m: ('QUANTITYORDERED', 'ORDERLINENUMBER', 'SALES', 'STATUS', 'QTR_ID', 'MONTH_ID', 'YEAR_ID', 'PRODUCTCODE', 'MSRP', 'PRODUCTCODE', 'CUSTOMERNAME', 'COUNTRY', 'DEALSIZE')",
      "\nThe above exception was the direct cause of the following exception:\n",
      "\u001B[1;31mKeyError\u001B[0m                                  Traceback (most recent call last)",
      "Cell \u001B[1;32mIn[13], line 1\u001B[0m\n\u001B[1;32m----> 1\u001B[0m ndf \u001B[38;5;241m=\u001B[39m df[\u001B[43mdf\u001B[49m\u001B[43m[\u001B[49m\u001B[38;5;124;43m'\u001B[39;49m\u001B[38;5;124;43mQUANTITYORDERED\u001B[39;49m\u001B[38;5;124;43m'\u001B[39;49m\u001B[43m,\u001B[49m\u001B[38;5;124;43m'\u001B[39;49m\u001B[38;5;124;43mORDERLINENUMBER\u001B[39;49m\u001B[38;5;124;43m'\u001B[39;49m\u001B[43m,\u001B[49m\u001B[38;5;124;43m'\u001B[39;49m\u001B[38;5;124;43mSALES\u001B[39;49m\u001B[38;5;124;43m'\u001B[39;49m\u001B[43m,\u001B[49m\u001B[38;5;124;43m'\u001B[39;49m\u001B[38;5;124;43mSTATUS\u001B[39;49m\u001B[38;5;124;43m'\u001B[39;49m\u001B[43m,\u001B[49m\u001B[38;5;124;43m'\u001B[39;49m\u001B[38;5;124;43mQTR_ID\u001B[39;49m\u001B[38;5;124;43m'\u001B[39;49m\u001B[43m,\u001B[49m\u001B[38;5;124;43m'\u001B[39;49m\u001B[38;5;124;43mMONTH_ID\u001B[39;49m\u001B[38;5;124;43m'\u001B[39;49m\u001B[43m,\u001B[49m\u001B[38;5;124;43m'\u001B[39;49m\u001B[38;5;124;43mYEAR_ID\u001B[39;49m\u001B[38;5;124;43m'\u001B[39;49m\u001B[43m,\u001B[49m\u001B[38;5;124;43m'\u001B[39;49m\u001B[38;5;124;43mPRODUCTCODE\u001B[39;49m\u001B[38;5;124;43m'\u001B[39;49m\u001B[43m,\u001B[49m\u001B[38;5;124;43m'\u001B[39;49m\u001B[38;5;124;43mMSRP\u001B[39;49m\u001B[38;5;124;43m'\u001B[39;49m\u001B[43m,\u001B[49m\u001B[38;5;124;43m'\u001B[39;49m\u001B[38;5;124;43mPRODUCTCODE\u001B[39;49m\u001B[38;5;124;43m'\u001B[39;49m\u001B[43m,\u001B[49m\u001B[38;5;124;43m'\u001B[39;49m\u001B[38;5;124;43mCUSTOMERNAME\u001B[39;49m\u001B[38;5;124;43m'\u001B[39;49m\u001B[43m,\u001B[49m\u001B[38;5;124;43m'\u001B[39;49m\u001B[38;5;124;43mCOUNTRY\u001B[39;49m\u001B[38;5;124;43m'\u001B[39;49m\u001B[43m,\u001B[49m\u001B[38;5;124;43m'\u001B[39;49m\u001B[38;5;124;43mDEALSIZE\u001B[39;49m\u001B[38;5;124;43m'\u001B[39;49m\u001B[43m]\u001B[49m]\n",
      "File \u001B[1;32m~\\AppData\\Roaming\\Python\\Python311\\site-packages\\pandas\\core\\frame.py:3893\u001B[0m, in \u001B[0;36mDataFrame.__getitem__\u001B[1;34m(self, key)\u001B[0m\n\u001B[0;32m   3891\u001B[0m \u001B[38;5;28;01mif\u001B[39;00m \u001B[38;5;28mself\u001B[39m\u001B[38;5;241m.\u001B[39mcolumns\u001B[38;5;241m.\u001B[39mnlevels \u001B[38;5;241m>\u001B[39m \u001B[38;5;241m1\u001B[39m:\n\u001B[0;32m   3892\u001B[0m     \u001B[38;5;28;01mreturn\u001B[39;00m \u001B[38;5;28mself\u001B[39m\u001B[38;5;241m.\u001B[39m_getitem_multilevel(key)\n\u001B[1;32m-> 3893\u001B[0m indexer \u001B[38;5;241m=\u001B[39m \u001B[38;5;28;43mself\u001B[39;49m\u001B[38;5;241;43m.\u001B[39;49m\u001B[43mcolumns\u001B[49m\u001B[38;5;241;43m.\u001B[39;49m\u001B[43mget_loc\u001B[49m\u001B[43m(\u001B[49m\u001B[43mkey\u001B[49m\u001B[43m)\u001B[49m\n\u001B[0;32m   3894\u001B[0m \u001B[38;5;28;01mif\u001B[39;00m is_integer(indexer):\n\u001B[0;32m   3895\u001B[0m     indexer \u001B[38;5;241m=\u001B[39m [indexer]\n",
      "File \u001B[1;32m~\\AppData\\Roaming\\Python\\Python311\\site-packages\\pandas\\core\\indexes\\base.py:3797\u001B[0m, in \u001B[0;36mIndex.get_loc\u001B[1;34m(self, key)\u001B[0m\n\u001B[0;32m   3792\u001B[0m     \u001B[38;5;28;01mif\u001B[39;00m \u001B[38;5;28misinstance\u001B[39m(casted_key, \u001B[38;5;28mslice\u001B[39m) \u001B[38;5;129;01mor\u001B[39;00m (\n\u001B[0;32m   3793\u001B[0m         \u001B[38;5;28misinstance\u001B[39m(casted_key, abc\u001B[38;5;241m.\u001B[39mIterable)\n\u001B[0;32m   3794\u001B[0m         \u001B[38;5;129;01mand\u001B[39;00m \u001B[38;5;28many\u001B[39m(\u001B[38;5;28misinstance\u001B[39m(x, \u001B[38;5;28mslice\u001B[39m) \u001B[38;5;28;01mfor\u001B[39;00m x \u001B[38;5;129;01min\u001B[39;00m casted_key)\n\u001B[0;32m   3795\u001B[0m     ):\n\u001B[0;32m   3796\u001B[0m         \u001B[38;5;28;01mraise\u001B[39;00m InvalidIndexError(key)\n\u001B[1;32m-> 3797\u001B[0m     \u001B[38;5;28;01mraise\u001B[39;00m \u001B[38;5;167;01mKeyError\u001B[39;00m(key) \u001B[38;5;28;01mfrom\u001B[39;00m \u001B[38;5;21;01merr\u001B[39;00m\n\u001B[0;32m   3798\u001B[0m \u001B[38;5;28;01mexcept\u001B[39;00m \u001B[38;5;167;01mTypeError\u001B[39;00m:\n\u001B[0;32m   3799\u001B[0m     \u001B[38;5;66;03m# If we have a listlike key, _check_indexing_error will raise\u001B[39;00m\n\u001B[0;32m   3800\u001B[0m     \u001B[38;5;66;03m#  InvalidIndexError. Otherwise we fall through and re-raise\u001B[39;00m\n\u001B[0;32m   3801\u001B[0m     \u001B[38;5;66;03m#  the TypeError.\u001B[39;00m\n\u001B[0;32m   3802\u001B[0m     \u001B[38;5;28mself\u001B[39m\u001B[38;5;241m.\u001B[39m_check_indexing_error(key)\n",
      "\u001B[1;31mKeyError\u001B[0m: ('QUANTITYORDERED', 'ORDERLINENUMBER', 'SALES', 'STATUS', 'QTR_ID', 'MONTH_ID', 'YEAR_ID', 'PRODUCTCODE', 'MSRP', 'PRODUCTCODE', 'CUSTOMERNAME', 'COUNTRY', 'DEALSIZE')"
     ]
    }
   ],
   "source": [
    "ndf = df['QUANTITYORDERED','ORDERLINENUMBER','SALES','STATUS','QTR_ID','MONTH_ID','YEAR_ID','PRODUCTCODE','MSRP','PRODUCTCODE','CUSTOMERNAME','COUNTRY','DEALSIZE']"
   ],
   "metadata": {
    "collapsed": false,
    "ExecuteTime": {
     "end_time": "2023-11-07T09:35:57.042608500Z",
     "start_time": "2023-11-07T09:35:56.814692600Z"
    }
   },
   "id": "f8762fad4f9beabc"
  }
 ],
 "metadata": {
  "kernelspec": {
   "display_name": "Python 3",
   "language": "python",
   "name": "python3"
  },
  "language_info": {
   "codemirror_mode": {
    "name": "ipython",
    "version": 2
   },
   "file_extension": ".py",
   "mimetype": "text/x-python",
   "name": "python",
   "nbconvert_exporter": "python",
   "pygments_lexer": "ipython2",
   "version": "2.7.6"
  }
 },
 "nbformat": 4,
 "nbformat_minor": 5
}
