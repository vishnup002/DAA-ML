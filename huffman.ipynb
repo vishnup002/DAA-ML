{
 "cells": [
  {
   "cell_type": "markdown",
   "source": [],
   "metadata": {
    "collapsed": false
   },
   "id": "abde7c2328948440"
  },
  {
   "cell_type": "code",
   "execution_count": 2,
   "outputs": [],
   "source": [
    "from heapq import heapify,heappop,heappush\n",
    "from _collections import defaultdict\n",
    "from bitarray import bitarray"
   ],
   "metadata": {
    "collapsed": false,
    "ExecuteTime": {
     "end_time": "2023-11-07T14:08:35.242204900Z",
     "start_time": "2023-11-07T14:08:35.236607200Z"
    }
   },
   "id": "56d5d1382a7f840f"
  },
  {
   "cell_type": "code",
   "execution_count": 4,
   "outputs": [],
   "source": [
    "text = \"HAPPY HAPPY\""
   ],
   "metadata": {
    "collapsed": false,
    "ExecuteTime": {
     "end_time": "2023-11-07T14:09:33.032626Z",
     "start_time": "2023-11-07T14:09:33.018184200Z"
    }
   },
   "id": "261a1a3963ea7dbf"
  },
  {
   "cell_type": "code",
   "execution_count": 6,
   "outputs": [
    {
     "name": "stdout",
     "output_type": "stream",
     "text": [
      "defaultdict(<class 'int'>, {'H': 2, 'A': 2, 'P': 4, 'Y': 2, ' ': 1})\n"
     ]
    }
   ],
   "source": [
    "f_lib = defaultdict(int)\n",
    "for ch in text:\n",
    "    f_lib[ch]+=1\n",
    "print(f_lib)"
   ],
   "metadata": {
    "collapsed": false,
    "ExecuteTime": {
     "end_time": "2023-11-07T15:28:57.223528300Z",
     "start_time": "2023-11-07T15:28:57.213039400Z"
    }
   },
   "id": "fa9e826034ac2f55"
  },
  {
   "cell_type": "code",
   "execution_count": 12,
   "outputs": [
    {
     "name": "stdout",
     "output_type": "stream",
     "text": [
      "[[2, ['H', '']], [2, ['A', '']], [4, ['P', '']], [2, ['Y', '']], [1, [' ', '']]]\n"
     ]
    }
   ],
   "source": [
    "heap = [[count,[sym,\"\"]] for sym,count in f_lib.items()]\n",
    "print(heap)"
   ],
   "metadata": {
    "collapsed": false,
    "ExecuteTime": {
     "end_time": "2023-11-07T15:32:34.154983900Z",
     "start_time": "2023-11-07T15:32:34.148626100Z"
    }
   },
   "id": "ad30fc73aee8f31"
  },
  {
   "cell_type": "code",
   "execution_count": 14,
   "outputs": [
    {
     "name": "stdout",
     "output_type": "stream",
     "text": [
      "[[1, [' ', '']], [2, ['A', '']], [4, ['P', '']], [2, ['Y', '']], [2, ['H', '']]]\n"
     ]
    }
   ],
   "source": [
    "heapify(heap)\n",
    "print(heap)"
   ],
   "metadata": {
    "collapsed": false,
    "ExecuteTime": {
     "end_time": "2023-11-07T15:33:05.201680400Z",
     "start_time": "2023-11-07T15:33:05.194695600Z"
    }
   },
   "id": "e77cd1cb2b0969c6"
  },
  {
   "cell_type": "code",
   "execution_count": 15,
   "outputs": [],
   "source": [
    "while len(heap)>1:\n",
    "    right = heappop(heap)\n",
    "    left = heappop(heap)\n",
    "    \n",
    "    for pair in right[1:]:\n",
    "        pair[1]= '0'+pair[1]\n",
    "    for pair in left[1:]:\n",
    "        pair[1] = '1'+pair[1]\n",
    "    heappush(heap,[right[0]+left[0]]+right[1:]+left[1:])"
   ],
   "metadata": {
    "collapsed": false,
    "ExecuteTime": {
     "end_time": "2023-11-07T15:45:48.451026300Z",
     "start_time": "2023-11-07T15:45:48.443047600Z"
    }
   },
   "id": "2c968f59ef087bd9"
  },
  {
   "cell_type": "code",
   "execution_count": 17,
   "outputs": [
    {
     "name": "stdout",
     "output_type": "stream",
     "text": [
      "[['P', '0'], [' ', '100'], ['A', '101'], ['H', '110'], ['Y', '111']]\n",
      "{'P': bitarray('0'), ' ': bitarray('100'), 'A': bitarray('101'), 'H': bitarray('110'), 'Y': bitarray('111')}\n"
     ]
    }
   ],
   "source": [
    "huff_list = right[1:]+left[1:]\n",
    "print(huff_list)\n",
    "huff_dict = {a[0]:bitarray(str(a[1])) for a in huff_list}\n",
    "print(huff_dict)"
   ],
   "metadata": {
    "collapsed": false,
    "ExecuteTime": {
     "end_time": "2023-11-07T15:48:17.574388700Z",
     "start_time": "2023-11-07T15:48:17.558112500Z"
    }
   },
   "id": "ac5de746c0d990c0"
  },
  {
   "cell_type": "code",
   "execution_count": 19,
   "outputs": [
    {
     "name": "stdout",
     "output_type": "stream",
     "text": [
      "bitarray('1101010011110011010100111')\n"
     ]
    }
   ],
   "source": [
    "encoded_text = bitarray()\n",
    "encoded_text.encode(huff_dict,text)\n",
    "print(encoded_text)"
   ],
   "metadata": {
    "collapsed": false,
    "ExecuteTime": {
     "end_time": "2023-11-07T15:49:35.275525500Z",
     "start_time": "2023-11-07T15:49:35.259051400Z"
    }
   },
   "id": "50bc9d42ce9e83a9"
  },
  {
   "cell_type": "code",
   "execution_count": null,
   "outputs": [],
   "source": [],
   "metadata": {
    "collapsed": false
   },
   "id": "e4d93f2ecfd31fb7"
  }
 ],
 "metadata": {
  "kernelspec": {
   "display_name": "Python 3",
   "language": "python",
   "name": "python3"
  },
  "language_info": {
   "codemirror_mode": {
    "name": "ipython",
    "version": 2
   },
   "file_extension": ".py",
   "mimetype": "text/x-python",
   "name": "python",
   "nbconvert_exporter": "python",
   "pygments_lexer": "ipython2",
   "version": "2.7.6"
  }
 },
 "nbformat": 4,
 "nbformat_minor": 5
}
